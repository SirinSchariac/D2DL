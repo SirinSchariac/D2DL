{
 "cells": [
  {
   "cell_type": "code",
   "execution_count": 1,
   "id": "edb91809",
   "metadata": {},
   "outputs": [],
   "source": [
    "import torch\n",
    "from d2l import torch as d2l"
   ]
  },
  {
   "cell_type": "code",
   "execution_count": 6,
   "id": "f63cd0f1",
   "metadata": {},
   "outputs": [
    {
     "data": {
      "text/plain": [
       "tensor([[-1.2875,  2.1611,  2.8548, -1.0213],\n",
       "        [-0.5427, -0.8167, -0.0567, -1.7808],\n",
       "        [-0.6415, -0.2578,  2.0764, -1.1254]])"
      ]
     },
     "execution_count": 6,
     "metadata": {},
     "output_type": "execute_result"
    }
   ],
   "source": [
    "# n = 3 (batch size) d = 1 (input size) h = 4 (hidden size) q = 4 (output size)\n",
    "# X: [n * d] W_xh: [d * h] H: [n * h] W_hh: [h * q]\n",
    "X, W_xh = torch.normal(0, 1, (3, 1)), torch.normal(0, 1, (1, 4))\n",
    "H, W_hh = torch.normal(0, 1, (3, 4)), torch.normal(0, 1, (4, 4))\n",
    "torch.matmul(X, W_xh) + torch.matmul(H, W_hh)"
   ]
  },
  {
   "cell_type": "code",
   "execution_count": 8,
   "id": "bca58e90",
   "metadata": {},
   "outputs": [
    {
     "data": {
      "text/plain": [
       "tensor([[-1.2875,  2.1611,  2.8548, -1.0213],\n",
       "        [-0.5427, -0.8167, -0.0567, -1.7808],\n",
       "        [-0.6415, -0.2578,  2.0764, -1.1254]])"
      ]
     },
     "execution_count": 8,
     "metadata": {},
     "output_type": "execute_result"
    }
   ],
   "source": [
    "torch.matmul(torch.cat((X, H), dim=1), torch.cat((W_xh, W_hh), dim=0))"
   ]
  }
 ],
 "metadata": {
  "kernelspec": {
   "display_name": "d2dl",
   "language": "python",
   "name": "python3"
  },
  "language_info": {
   "codemirror_mode": {
    "name": "ipython",
    "version": 3
   },
   "file_extension": ".py",
   "mimetype": "text/x-python",
   "name": "python",
   "nbconvert_exporter": "python",
   "pygments_lexer": "ipython3",
   "version": "3.9.23"
  }
 },
 "nbformat": 4,
 "nbformat_minor": 5
}
